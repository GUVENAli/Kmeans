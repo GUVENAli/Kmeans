{
 "cells": [
  {
   "cell_type": "code",
   "execution_count": 1,
   "metadata": {},
   "outputs": [],
   "source": [
    "class Kmeans(object):\n",
    "    def __init__(self, kParameter, data):\n",
    "        self.__kParameter = kParameter\n",
    "        self.__data = data\n",
    "        \n",
    "    def KmeansClustering(self):\n",
    "        import numpy as np\n",
    "        np.random.seed(0)\n",
    "        numberOfSamples = len(self.__data)\n",
    "        numberOfFeatures = self.__data.shape[1]\n",
    "        centers = [np.random.randint(numberOfSamples) for i in range(self.__kParameter)]\n",
    "        centers = self.__data[centers,:]\n",
    "        \n",
    "        centers_old = np.zeros(centers.shape) # to store old centers\n",
    "        centers_new = centers # Store new centers\n",
    "\n",
    "        clusters = np.zeros(numberOfSamples)\n",
    "        distances = np.zeros((numberOfSamples,self.__kParameter))\n",
    "\n",
    "        error = np.linalg.norm(centers_new - centers_old)\n",
    "\n",
    "        # When, after an update, the estimate of that center stays the same, exit loop\n",
    "        while error != 0:\n",
    "            # Measure the distance to every center\n",
    "            for i in range(self.__kParameter):\n",
    "                distances[:,i] = np.linalg.norm(self.__data - centers[i], axis=1)\n",
    "            # Assign all training data to closest center\n",
    "            clusters = np.argmin(distances, axis = 1)\n",
    "\n",
    "            centers_old = centers_new\n",
    "            # Calculate mean for every cluster and update the center\n",
    "            for i in range(self.__kParameter):\n",
    "                centers_new[i] = np.mean(self.__data[clusters == i], axis=0)\n",
    "            error = np.linalg.norm(centers_new - centers_old)\n",
    "        return {\"Clusters\" : clusters, \"Centers\" : centers_new}"
   ]
  },
  {
   "cell_type": "code",
   "execution_count": 2,
   "metadata": {},
   "outputs": [],
   "source": [
    "from sklearn.datasets import load_iris\n",
    "X = load_iris().data\n",
    "y = load_iris().target"
   ]
  },
  {
   "cell_type": "code",
   "execution_count": 3,
   "metadata": {},
   "outputs": [],
   "source": [
    "obj = Kmeans(3,X)"
   ]
  },
  {
   "cell_type": "code",
   "execution_count": 4,
   "metadata": {},
   "outputs": [
    {
     "data": {
      "text/plain": [
       "array([0, 0, 0, 0, 0, 0, 0, 0, 0, 0, 0, 0, 0, 0, 0, 0, 0, 0, 0, 0, 0, 0,\n",
       "       0, 0, 0, 0, 0, 0, 0, 0, 0, 0, 0, 0, 0, 0, 0, 0, 0, 0, 0, 0, 0, 0,\n",
       "       0, 0, 0, 0, 0, 0, 2, 2, 2, 2, 2, 2, 2, 2, 2, 2, 2, 2, 2, 2, 2, 2,\n",
       "       2, 2, 2, 2, 2, 2, 2, 2, 2, 2, 2, 2, 2, 2, 2, 2, 2, 2, 2, 2, 2, 2,\n",
       "       2, 2, 2, 2, 2, 2, 2, 2, 2, 2, 2, 2, 1, 2, 1, 2, 1, 1, 2, 1, 1, 1,\n",
       "       2, 2, 1, 2, 2, 2, 2, 1, 1, 2, 1, 2, 1, 2, 1, 1, 2, 2, 2, 1, 1, 1,\n",
       "       1, 2, 2, 1, 1, 2, 2, 1, 1, 1, 2, 1, 1, 2, 2, 2, 2, 2], dtype=int64)"
      ]
     },
     "execution_count": 4,
     "metadata": {},
     "output_type": "execute_result"
    }
   ],
   "source": [
    "res = obj.KmeansClustering()\n",
    "centers = res[\"Centers\"]\n",
    "clusters = res[\"Clusters\"]\n",
    "clusters"
   ]
  },
  {
   "cell_type": "code",
   "execution_count": 5,
   "metadata": {},
   "outputs": [
    {
     "data": {
      "image/png": "[encoded data removed]",
      "text/plain": [
       "<Figure size 432x288 with 1 Axes>"
      ]
     },
     "metadata": {
      "needs_background": "light"
     },
     "output_type": "display_data"
    }
   ],
   "source": [
    "import matplotlib.pyplot as plt\n",
    "%matplotlib inline\n",
    "colors=['orange', 'blue', 'green']\n",
    "for i in range(len(X)):\n",
    "    plt.scatter(X[i, 0], X[i,1], s=7, color = colors[int(y[i])])\n",
    "plt.scatter(centers[:,0], centers[:,1], marker='*', c='g', s=150)\n",
    "plt.show()"
   ]
  },
  {
   "cell_type": "code",
   "execution_count": 6,
   "metadata": {},
   "outputs": [
    {
     "name": "stdout",
     "output_type": "stream",
     "text": [
      "Accuracy of Clustering: 0.833\n"
     ]
    }
   ],
   "source": [
    "for i in range(len(X)):\n",
    "    if clusters[i] == 2:\n",
    "        clusters[i] = 1\n",
    "    elif clusters[i] == 1:\n",
    "        clusters[i] = 2\n",
    "    else:\n",
    "        clusters[i] = 0\n",
    "print(\"Accuracy of Clustering: %.3f\" %(clusters == y).mean())"
   ]
  }
 ],
 "metadata": {
  "kernelspec": {
   "display_name": "Python 3",
   "language": "python",
   "name": "python3"
  },
  "language_info": {
   "codemirror_mode": {
    "name": "ipython",
    "version": 3
   },
   "file_extension": ".py",
   "mimetype": "text/x-python",
   "name": "python",
   "nbconvert_exporter": "python",
   "pygments_lexer": "ipython3",
   "version": "3.6.8"
  }
 },
 "nbformat": 4,
 "nbformat_minor": 2
}
